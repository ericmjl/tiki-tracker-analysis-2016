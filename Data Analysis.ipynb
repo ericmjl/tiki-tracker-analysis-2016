{
 "cells": [
  {
   "cell_type": "code",
   "execution_count": 1,
   "metadata": {
    "collapsed": true
   },
   "outputs": [],
   "source": [
    "import os\n",
    "import pandas as pd\n",
    "from datetime import datetime"
   ]
  },
  {
   "cell_type": "code",
   "execution_count": 2,
   "metadata": {
    "collapsed": false
   },
   "outputs": [
    {
     "data": {
      "text/plain": [
       "['20160126_bt1',\n",
       " '20160126_bt2',\n",
       " '20160126_bt5',\n",
       " '20160126_bt8',\n",
       " '20160127_bt1',\n",
       " '20160127_bt6',\n",
       " '20160127_bt8',\n",
       " '20160127_bt9',\n",
       " '20160128_bt1',\n",
       " '20160128_bt2',\n",
       " '20160128_bt6',\n",
       " '20160128_bt8',\n",
       " '20160128_bt9']"
      ]
     },
     "execution_count": 2,
     "metadata": {},
     "output_type": "execute_result"
    }
   ],
   "source": [
    "folders = [i for i in os.listdir(os.getcwd()) if '_bt' in i]\n",
    "folders"
   ]
  },
  {
   "cell_type": "code",
   "execution_count": 3,
   "metadata": {
    "collapsed": false
   },
   "outputs": [
    {
     "data": {
      "text/plain": [
       "8253"
      ]
     },
     "execution_count": 3,
     "metadata": {},
     "output_type": "execute_result"
    }
   ],
   "source": [
    "# In this cell, we concatenate all of the data together.\n",
    "master_data = pd.DataFrame()\n",
    "\n",
    "for folder in folders:\n",
    "    data = pd.read_csv('{0}/data.txt'.format(folder), header=None)\n",
    "    data.columns = ['tracker_id', 'dBm', 'year', 'month', 'day', 'hour', 'minute', 'second']\n",
    "    data['base_station_id'] = folder.split('_')[1]\n",
    "\n",
    "    master_data = master_data.append(data)\n",
    "    \n",
    "master_data['date'] = master_data.apply(lambda x: datetime(x['year'], x['month'], x['day'], x['hour'], x['minute'], x['second']), axis=1)\n",
    "master_data = master_data.drop_duplicates()\n",
    "master_data.reset_index(drop=True, inplace=True)\n",
    "len(master_data)"
   ]
  },
  {
   "cell_type": "markdown",
   "metadata": {},
   "source": [
    "# Notes:\n",
    "\n",
    "The tracker IDs that were deployed are:\n",
    "\n",
    "- F4:B8:5E:C4:54:BE\n",
    "- F4:B8:5E:DD:42:D2\n",
    "- F4:B8:5E:C4:5F:8C\n",
    "- F4:B8:5E:C4:8F:EE\n",
    "- 68:9E:19:11:86:DB\n",
    "- F4:B8:5E:C4:63:25\n",
    "- 74:DA:EA:A8:9D:0F\n",
    "- F4:B8:5E:DC:49:F8"
   ]
  },
  {
   "cell_type": "code",
   "execution_count": 4,
   "metadata": {
    "collapsed": false
   },
   "outputs": [],
   "source": [
    "tracker_ids_time = {'F4:B8:5E:C4:54:BE':datetime(2016, 1, 28, 12, 1, 0),\n",
    "                    'F4:B8:5E:DD:42:D2':datetime(2016, 1, 28, 9, 52, 0),\n",
    "                    'F4:B8:5E:C4:5F:8C':datetime(2016, 1, 28, 10, 12, 0),\n",
    "                    'F4:B8:5E:C4:8F:EE':datetime(2016, 1, 26, 9, 59, 0),\n",
    "                    '68:9E:19:11:86:DB':datetime(2016, 1, 26, 9, 27, 0),\n",
    "                    'F4:B8:5E:C4:63:25':datetime(2016, 1, 26, 11, 15, 0),\n",
    "                    '74:DA:EA:A8:9D:0F':datetime(2016, 1, 26, 10, 55, 0),\n",
    "                    'F4:B8:5E:DC:49:F8':datetime(2016, 1, 26, 10, 19, 0),}"
   ]
  },
  {
   "cell_type": "code",
   "execution_count": 5,
   "metadata": {
    "collapsed": false,
    "scrolled": false
   },
   "outputs": [
    {
     "data": {
      "text/html": [
       "<div>\n",
       "<table border=\"1\" class=\"dataframe\">\n",
       "  <thead>\n",
       "    <tr style=\"text-align: right;\">\n",
       "      <th></th>\n",
       "      <th>tracker_id</th>\n",
       "      <th>dBm</th>\n",
       "      <th>year</th>\n",
       "      <th>month</th>\n",
       "      <th>day</th>\n",
       "      <th>hour</th>\n",
       "      <th>minute</th>\n",
       "      <th>second</th>\n",
       "      <th>base_station_id</th>\n",
       "      <th>date</th>\n",
       "    </tr>\n",
       "  </thead>\n",
       "  <tbody>\n",
       "    <tr>\n",
       "      <th>0</th>\n",
       "      <td>F4:B8:5E:C4:8F:EE</td>\n",
       "      <td>-90</td>\n",
       "      <td>2016</td>\n",
       "      <td>1</td>\n",
       "      <td>18</td>\n",
       "      <td>14</td>\n",
       "      <td>21</td>\n",
       "      <td>0</td>\n",
       "      <td>bt1</td>\n",
       "      <td>2016-01-18 14:21:00</td>\n",
       "    </tr>\n",
       "    <tr>\n",
       "      <th>1</th>\n",
       "      <td>F4:B8:5E:C4:8F:EE</td>\n",
       "      <td>-91</td>\n",
       "      <td>2016</td>\n",
       "      <td>1</td>\n",
       "      <td>18</td>\n",
       "      <td>14</td>\n",
       "      <td>21</td>\n",
       "      <td>30</td>\n",
       "      <td>bt1</td>\n",
       "      <td>2016-01-18 14:21:30</td>\n",
       "    </tr>\n",
       "    <tr>\n",
       "      <th>2</th>\n",
       "      <td>F4:B8:5E:C4:8F:EE</td>\n",
       "      <td>-89</td>\n",
       "      <td>2016</td>\n",
       "      <td>1</td>\n",
       "      <td>18</td>\n",
       "      <td>14</td>\n",
       "      <td>22</td>\n",
       "      <td>32</td>\n",
       "      <td>bt1</td>\n",
       "      <td>2016-01-18 14:22:32</td>\n",
       "    </tr>\n",
       "    <tr>\n",
       "      <th>3</th>\n",
       "      <td>74:DA:EA:A8:9D:0F</td>\n",
       "      <td>-89</td>\n",
       "      <td>2016</td>\n",
       "      <td>1</td>\n",
       "      <td>18</td>\n",
       "      <td>14</td>\n",
       "      <td>25</td>\n",
       "      <td>2</td>\n",
       "      <td>bt1</td>\n",
       "      <td>2016-01-18 14:25:02</td>\n",
       "    </tr>\n",
       "    <tr>\n",
       "      <th>4</th>\n",
       "      <td>F4:B8:5E:C4:8F:EE</td>\n",
       "      <td>-83</td>\n",
       "      <td>2016</td>\n",
       "      <td>1</td>\n",
       "      <td>18</td>\n",
       "      <td>14</td>\n",
       "      <td>25</td>\n",
       "      <td>2</td>\n",
       "      <td>bt1</td>\n",
       "      <td>2016-01-18 14:25:02</td>\n",
       "    </tr>\n",
       "  </tbody>\n",
       "</table>\n",
       "</div>"
      ],
      "text/plain": [
       "          tracker_id  dBm  year  month  day  hour  minute  second  \\\n",
       "0  F4:B8:5E:C4:8F:EE  -90  2016      1   18    14      21       0   \n",
       "1  F4:B8:5E:C4:8F:EE  -91  2016      1   18    14      21      30   \n",
       "2  F4:B8:5E:C4:8F:EE  -89  2016      1   18    14      22      32   \n",
       "3  74:DA:EA:A8:9D:0F  -89  2016      1   18    14      25       2   \n",
       "4  F4:B8:5E:C4:8F:EE  -83  2016      1   18    14      25       2   \n",
       "\n",
       "  base_station_id                date  \n",
       "0             bt1 2016-01-18 14:21:00  \n",
       "1             bt1 2016-01-18 14:21:30  \n",
       "2             bt1 2016-01-18 14:22:32  \n",
       "3             bt1 2016-01-18 14:25:02  \n",
       "4             bt1 2016-01-18 14:25:02  "
      ]
     },
     "execution_count": 5,
     "metadata": {},
     "output_type": "execute_result"
    }
   ],
   "source": [
    "master_data = master_data[master_data['tracker_id'].isin(tracker_ids_time.keys())]\n",
    "master_data.head()"
   ]
  },
  {
   "cell_type": "markdown",
   "metadata": {},
   "source": [
    "# Time filters for base stations\n",
    "\n",
    "On each of the listed days, the Tiki base stations were set up at:\n",
    "\n",
    "- 26 Jan: 12:37 pm\n",
    "- 27 Jan: 9:42 am\n",
    "- 28 Jan: 8:25 am"
   ]
  },
  {
   "cell_type": "code",
   "execution_count": 6,
   "metadata": {
    "collapsed": true
   },
   "outputs": [],
   "source": [
    "day1_start = datetime(2016, 1, 26, 12, 37, 0)\n",
    "day2_start = datetime(2016, 1, 27, 9, 42, 0)\n",
    "day3_start = datetime(2016, 1, 28, 8, 25, 0)\n",
    "\n",
    "day1_end = datetime(2016, 1, 26, 16, 30, 0)\n",
    "day2_end = datetime(2016, 1, 27, 16, 30, 0)\n",
    "day3_end = datetime(2016, 1, 28, 16, 30 ,0)"
   ]
  },
  {
   "cell_type": "code",
   "execution_count": 7,
   "metadata": {
    "collapsed": false,
    "scrolled": false
   },
   "outputs": [],
   "source": [
    "tracker_dfs = dict()\n",
    "\n",
    "for i, (tracker_id, dt) in enumerate(tracker_ids_time.items()):\n",
    "    # tracker_id = some hexadecimal number.\n",
    "    # dt = the datetime object indicating the time at which the seal was finished sampling\n",
    "    tracker_dfs[tracker_id] = master_data[(master_data.tracker_id == tracker_id) & (master_data.date >= dt)]\n",
    "    trkr = tracker_dfs[tracker_id]\n",
    "    trkr = trkr[((trkr['date'] >= day1_start) & (trkr['date'] <= day1_end)) | \\\n",
    "                ((trkr['date'] >= day2_start) & (trkr['date'] <= day2_end)) | \\\n",
    "                ((trkr['date'] >= day3_start) & (trkr['date'] <= day3_end))]\n",
    "    tracker_dfs[tracker_id] = trkr"
   ]
  },
  {
   "cell_type": "markdown",
   "metadata": {},
   "source": [
    "Below, we will print out each tracker as well as the number of pings it gave to any base station, and the time at which the pings occurred."
   ]
  },
  {
   "cell_type": "code",
   "execution_count": 8,
   "metadata": {
    "collapsed": false
   },
   "outputs": [
    {
     "name": "stdout",
     "output_type": "stream",
     "text": [
      "68:9E:19:11:86:DB\n"
     ]
    },
    {
     "data": {
      "text/html": [
       "<div>\n",
       "<table border=\"1\" class=\"dataframe\">\n",
       "  <thead>\n",
       "    <tr style=\"text-align: right;\">\n",
       "      <th></th>\n",
       "      <th>tracker_id</th>\n",
       "      <th>dBm</th>\n",
       "      <th>year</th>\n",
       "      <th>month</th>\n",
       "      <th>day</th>\n",
       "      <th>hour</th>\n",
       "      <th>minute</th>\n",
       "      <th>second</th>\n",
       "      <th>base_station_id</th>\n",
       "      <th>date</th>\n",
       "    </tr>\n",
       "  </thead>\n",
       "  <tbody>\n",
       "  </tbody>\n",
       "</table>\n",
       "</div>"
      ],
      "text/plain": [
       "Empty DataFrame\n",
       "Columns: [tracker_id, dBm, year, month, day, hour, minute, second, base_station_id, date]\n",
       "Index: []"
      ]
     },
     "execution_count": 8,
     "metadata": {},
     "output_type": "execute_result"
    }
   ],
   "source": [
    "print(list(tracker_dfs.keys())[0])\n",
    "tracker_dfs[list(tracker_dfs.keys())[0]]"
   ]
  },
  {
   "cell_type": "code",
   "execution_count": 9,
   "metadata": {
    "collapsed": false
   },
   "outputs": [
    {
     "name": "stdout",
     "output_type": "stream",
     "text": [
      "F4:B8:5E:C4:8F:EE\n"
     ]
    },
    {
     "data": {
      "text/html": [
       "<div>\n",
       "<table border=\"1\" class=\"dataframe\">\n",
       "  <thead>\n",
       "    <tr style=\"text-align: right;\">\n",
       "      <th></th>\n",
       "      <th>tracker_id</th>\n",
       "      <th>dBm</th>\n",
       "      <th>year</th>\n",
       "      <th>month</th>\n",
       "      <th>day</th>\n",
       "      <th>hour</th>\n",
       "      <th>minute</th>\n",
       "      <th>second</th>\n",
       "      <th>base_station_id</th>\n",
       "      <th>date</th>\n",
       "    </tr>\n",
       "  </thead>\n",
       "  <tbody>\n",
       "    <tr>\n",
       "      <th>2630</th>\n",
       "      <td>F4:B8:5E:C4:8F:EE</td>\n",
       "      <td>-99</td>\n",
       "      <td>2016</td>\n",
       "      <td>1</td>\n",
       "      <td>26</td>\n",
       "      <td>12</td>\n",
       "      <td>37</td>\n",
       "      <td>2</td>\n",
       "      <td>bt5</td>\n",
       "      <td>2016-01-26 12:37:02</td>\n",
       "    </tr>\n",
       "    <tr>\n",
       "      <th>2631</th>\n",
       "      <td>F4:B8:5E:C4:8F:EE</td>\n",
       "      <td>-96</td>\n",
       "      <td>2016</td>\n",
       "      <td>1</td>\n",
       "      <td>26</td>\n",
       "      <td>12</td>\n",
       "      <td>38</td>\n",
       "      <td>32</td>\n",
       "      <td>bt5</td>\n",
       "      <td>2016-01-26 12:38:32</td>\n",
       "    </tr>\n",
       "    <tr>\n",
       "      <th>2632</th>\n",
       "      <td>F4:B8:5E:C4:8F:EE</td>\n",
       "      <td>-97</td>\n",
       "      <td>2016</td>\n",
       "      <td>1</td>\n",
       "      <td>26</td>\n",
       "      <td>13</td>\n",
       "      <td>33</td>\n",
       "      <td>13</td>\n",
       "      <td>bt5</td>\n",
       "      <td>2016-01-26 13:33:13</td>\n",
       "    </tr>\n",
       "    <tr>\n",
       "      <th>2633</th>\n",
       "      <td>F4:B8:5E:C4:8F:EE</td>\n",
       "      <td>-98</td>\n",
       "      <td>2016</td>\n",
       "      <td>1</td>\n",
       "      <td>26</td>\n",
       "      <td>13</td>\n",
       "      <td>33</td>\n",
       "      <td>43</td>\n",
       "      <td>bt5</td>\n",
       "      <td>2016-01-26 13:33:43</td>\n",
       "    </tr>\n",
       "    <tr>\n",
       "      <th>2634</th>\n",
       "      <td>F4:B8:5E:C4:8F:EE</td>\n",
       "      <td>-99</td>\n",
       "      <td>2016</td>\n",
       "      <td>1</td>\n",
       "      <td>26</td>\n",
       "      <td>13</td>\n",
       "      <td>34</td>\n",
       "      <td>14</td>\n",
       "      <td>bt5</td>\n",
       "      <td>2016-01-26 13:34:14</td>\n",
       "    </tr>\n",
       "    <tr>\n",
       "      <th>2635</th>\n",
       "      <td>F4:B8:5E:C4:8F:EE</td>\n",
       "      <td>-93</td>\n",
       "      <td>2016</td>\n",
       "      <td>1</td>\n",
       "      <td>26</td>\n",
       "      <td>14</td>\n",
       "      <td>3</td>\n",
       "      <td>20</td>\n",
       "      <td>bt5</td>\n",
       "      <td>2016-01-26 14:03:20</td>\n",
       "    </tr>\n",
       "    <tr>\n",
       "      <th>2636</th>\n",
       "      <td>F4:B8:5E:C4:8F:EE</td>\n",
       "      <td>-93</td>\n",
       "      <td>2016</td>\n",
       "      <td>1</td>\n",
       "      <td>26</td>\n",
       "      <td>14</td>\n",
       "      <td>4</td>\n",
       "      <td>50</td>\n",
       "      <td>bt5</td>\n",
       "      <td>2016-01-26 14:04:50</td>\n",
       "    </tr>\n",
       "    <tr>\n",
       "      <th>2637</th>\n",
       "      <td>F4:B8:5E:C4:8F:EE</td>\n",
       "      <td>-95</td>\n",
       "      <td>2016</td>\n",
       "      <td>1</td>\n",
       "      <td>26</td>\n",
       "      <td>14</td>\n",
       "      <td>5</td>\n",
       "      <td>51</td>\n",
       "      <td>bt5</td>\n",
       "      <td>2016-01-26 14:05:51</td>\n",
       "    </tr>\n",
       "    <tr>\n",
       "      <th>2638</th>\n",
       "      <td>F4:B8:5E:C4:8F:EE</td>\n",
       "      <td>-96</td>\n",
       "      <td>2016</td>\n",
       "      <td>1</td>\n",
       "      <td>26</td>\n",
       "      <td>14</td>\n",
       "      <td>6</td>\n",
       "      <td>52</td>\n",
       "      <td>bt5</td>\n",
       "      <td>2016-01-26 14:06:52</td>\n",
       "    </tr>\n",
       "    <tr>\n",
       "      <th>2639</th>\n",
       "      <td>F4:B8:5E:C4:8F:EE</td>\n",
       "      <td>-96</td>\n",
       "      <td>2016</td>\n",
       "      <td>1</td>\n",
       "      <td>26</td>\n",
       "      <td>14</td>\n",
       "      <td>7</td>\n",
       "      <td>23</td>\n",
       "      <td>bt5</td>\n",
       "      <td>2016-01-26 14:07:23</td>\n",
       "    </tr>\n",
       "    <tr>\n",
       "      <th>2640</th>\n",
       "      <td>F4:B8:5E:C4:8F:EE</td>\n",
       "      <td>-96</td>\n",
       "      <td>2016</td>\n",
       "      <td>1</td>\n",
       "      <td>26</td>\n",
       "      <td>14</td>\n",
       "      <td>10</td>\n",
       "      <td>24</td>\n",
       "      <td>bt5</td>\n",
       "      <td>2016-01-26 14:10:24</td>\n",
       "    </tr>\n",
       "    <tr>\n",
       "      <th>2641</th>\n",
       "      <td>F4:B8:5E:C4:8F:EE</td>\n",
       "      <td>-94</td>\n",
       "      <td>2016</td>\n",
       "      <td>1</td>\n",
       "      <td>26</td>\n",
       "      <td>14</td>\n",
       "      <td>11</td>\n",
       "      <td>56</td>\n",
       "      <td>bt5</td>\n",
       "      <td>2016-01-26 14:11:56</td>\n",
       "    </tr>\n",
       "    <tr>\n",
       "      <th>2642</th>\n",
       "      <td>F4:B8:5E:C4:8F:EE</td>\n",
       "      <td>-94</td>\n",
       "      <td>2016</td>\n",
       "      <td>1</td>\n",
       "      <td>26</td>\n",
       "      <td>14</td>\n",
       "      <td>28</td>\n",
       "      <td>30</td>\n",
       "      <td>bt5</td>\n",
       "      <td>2016-01-26 14:28:30</td>\n",
       "    </tr>\n",
       "    <tr>\n",
       "      <th>2643</th>\n",
       "      <td>F4:B8:5E:C4:8F:EE</td>\n",
       "      <td>-97</td>\n",
       "      <td>2016</td>\n",
       "      <td>1</td>\n",
       "      <td>26</td>\n",
       "      <td>14</td>\n",
       "      <td>33</td>\n",
       "      <td>1</td>\n",
       "      <td>bt5</td>\n",
       "      <td>2016-01-26 14:33:01</td>\n",
       "    </tr>\n",
       "    <tr>\n",
       "      <th>2644</th>\n",
       "      <td>F4:B8:5E:C4:8F:EE</td>\n",
       "      <td>-95</td>\n",
       "      <td>2016</td>\n",
       "      <td>1</td>\n",
       "      <td>26</td>\n",
       "      <td>14</td>\n",
       "      <td>33</td>\n",
       "      <td>31</td>\n",
       "      <td>bt5</td>\n",
       "      <td>2016-01-26 14:33:31</td>\n",
       "    </tr>\n",
       "    <tr>\n",
       "      <th>2645</th>\n",
       "      <td>F4:B8:5E:C4:8F:EE</td>\n",
       "      <td>-98</td>\n",
       "      <td>2016</td>\n",
       "      <td>1</td>\n",
       "      <td>26</td>\n",
       "      <td>14</td>\n",
       "      <td>34</td>\n",
       "      <td>1</td>\n",
       "      <td>bt5</td>\n",
       "      <td>2016-01-26 14:34:01</td>\n",
       "    </tr>\n",
       "    <tr>\n",
       "      <th>2646</th>\n",
       "      <td>F4:B8:5E:C4:8F:EE</td>\n",
       "      <td>-97</td>\n",
       "      <td>2016</td>\n",
       "      <td>1</td>\n",
       "      <td>26</td>\n",
       "      <td>14</td>\n",
       "      <td>36</td>\n",
       "      <td>2</td>\n",
       "      <td>bt5</td>\n",
       "      <td>2016-01-26 14:36:02</td>\n",
       "    </tr>\n",
       "    <tr>\n",
       "      <th>2647</th>\n",
       "      <td>F4:B8:5E:C4:8F:EE</td>\n",
       "      <td>-95</td>\n",
       "      <td>2016</td>\n",
       "      <td>1</td>\n",
       "      <td>26</td>\n",
       "      <td>15</td>\n",
       "      <td>14</td>\n",
       "      <td>39</td>\n",
       "      <td>bt5</td>\n",
       "      <td>2016-01-26 15:14:39</td>\n",
       "    </tr>\n",
       "    <tr>\n",
       "      <th>2648</th>\n",
       "      <td>F4:B8:5E:C4:8F:EE</td>\n",
       "      <td>-95</td>\n",
       "      <td>2016</td>\n",
       "      <td>1</td>\n",
       "      <td>26</td>\n",
       "      <td>15</td>\n",
       "      <td>17</td>\n",
       "      <td>11</td>\n",
       "      <td>bt5</td>\n",
       "      <td>2016-01-26 15:17:11</td>\n",
       "    </tr>\n",
       "    <tr>\n",
       "      <th>2649</th>\n",
       "      <td>F4:B8:5E:C4:8F:EE</td>\n",
       "      <td>-97</td>\n",
       "      <td>2016</td>\n",
       "      <td>1</td>\n",
       "      <td>26</td>\n",
       "      <td>15</td>\n",
       "      <td>18</td>\n",
       "      <td>11</td>\n",
       "      <td>bt5</td>\n",
       "      <td>2016-01-26 15:18:11</td>\n",
       "    </tr>\n",
       "    <tr>\n",
       "      <th>2650</th>\n",
       "      <td>F4:B8:5E:C4:8F:EE</td>\n",
       "      <td>-98</td>\n",
       "      <td>2016</td>\n",
       "      <td>1</td>\n",
       "      <td>26</td>\n",
       "      <td>15</td>\n",
       "      <td>20</td>\n",
       "      <td>12</td>\n",
       "      <td>bt5</td>\n",
       "      <td>2016-01-26 15:20:12</td>\n",
       "    </tr>\n",
       "    <tr>\n",
       "      <th>2651</th>\n",
       "      <td>F4:B8:5E:C4:8F:EE</td>\n",
       "      <td>-98</td>\n",
       "      <td>2016</td>\n",
       "      <td>1</td>\n",
       "      <td>26</td>\n",
       "      <td>15</td>\n",
       "      <td>22</td>\n",
       "      <td>14</td>\n",
       "      <td>bt5</td>\n",
       "      <td>2016-01-26 15:22:14</td>\n",
       "    </tr>\n",
       "    <tr>\n",
       "      <th>2652</th>\n",
       "      <td>F4:B8:5E:C4:8F:EE</td>\n",
       "      <td>-96</td>\n",
       "      <td>2016</td>\n",
       "      <td>1</td>\n",
       "      <td>26</td>\n",
       "      <td>15</td>\n",
       "      <td>22</td>\n",
       "      <td>44</td>\n",
       "      <td>bt5</td>\n",
       "      <td>2016-01-26 15:22:44</td>\n",
       "    </tr>\n",
       "    <tr>\n",
       "      <th>2653</th>\n",
       "      <td>F4:B8:5E:C4:8F:EE</td>\n",
       "      <td>-100</td>\n",
       "      <td>2016</td>\n",
       "      <td>1</td>\n",
       "      <td>26</td>\n",
       "      <td>15</td>\n",
       "      <td>54</td>\n",
       "      <td>50</td>\n",
       "      <td>bt5</td>\n",
       "      <td>2016-01-26 15:54:50</td>\n",
       "    </tr>\n",
       "  </tbody>\n",
       "</table>\n",
       "</div>"
      ],
      "text/plain": [
       "             tracker_id  dBm  year  month  day  hour  minute  second  \\\n",
       "2630  F4:B8:5E:C4:8F:EE  -99  2016      1   26    12      37       2   \n",
       "2631  F4:B8:5E:C4:8F:EE  -96  2016      1   26    12      38      32   \n",
       "2632  F4:B8:5E:C4:8F:EE  -97  2016      1   26    13      33      13   \n",
       "2633  F4:B8:5E:C4:8F:EE  -98  2016      1   26    13      33      43   \n",
       "2634  F4:B8:5E:C4:8F:EE  -99  2016      1   26    13      34      14   \n",
       "2635  F4:B8:5E:C4:8F:EE  -93  2016      1   26    14       3      20   \n",
       "2636  F4:B8:5E:C4:8F:EE  -93  2016      1   26    14       4      50   \n",
       "2637  F4:B8:5E:C4:8F:EE  -95  2016      1   26    14       5      51   \n",
       "2638  F4:B8:5E:C4:8F:EE  -96  2016      1   26    14       6      52   \n",
       "2639  F4:B8:5E:C4:8F:EE  -96  2016      1   26    14       7      23   \n",
       "2640  F4:B8:5E:C4:8F:EE  -96  2016      1   26    14      10      24   \n",
       "2641  F4:B8:5E:C4:8F:EE  -94  2016      1   26    14      11      56   \n",
       "2642  F4:B8:5E:C4:8F:EE  -94  2016      1   26    14      28      30   \n",
       "2643  F4:B8:5E:C4:8F:EE  -97  2016      1   26    14      33       1   \n",
       "2644  F4:B8:5E:C4:8F:EE  -95  2016      1   26    14      33      31   \n",
       "2645  F4:B8:5E:C4:8F:EE  -98  2016      1   26    14      34       1   \n",
       "2646  F4:B8:5E:C4:8F:EE  -97  2016      1   26    14      36       2   \n",
       "2647  F4:B8:5E:C4:8F:EE  -95  2016      1   26    15      14      39   \n",
       "2648  F4:B8:5E:C4:8F:EE  -95  2016      1   26    15      17      11   \n",
       "2649  F4:B8:5E:C4:8F:EE  -97  2016      1   26    15      18      11   \n",
       "2650  F4:B8:5E:C4:8F:EE  -98  2016      1   26    15      20      12   \n",
       "2651  F4:B8:5E:C4:8F:EE  -98  2016      1   26    15      22      14   \n",
       "2652  F4:B8:5E:C4:8F:EE  -96  2016      1   26    15      22      44   \n",
       "2653  F4:B8:5E:C4:8F:EE -100  2016      1   26    15      54      50   \n",
       "\n",
       "     base_station_id                date  \n",
       "2630             bt5 2016-01-26 12:37:02  \n",
       "2631             bt5 2016-01-26 12:38:32  \n",
       "2632             bt5 2016-01-26 13:33:13  \n",
       "2633             bt5 2016-01-26 13:33:43  \n",
       "2634             bt5 2016-01-26 13:34:14  \n",
       "2635             bt5 2016-01-26 14:03:20  \n",
       "2636             bt5 2016-01-26 14:04:50  \n",
       "2637             bt5 2016-01-26 14:05:51  \n",
       "2638             bt5 2016-01-26 14:06:52  \n",
       "2639             bt5 2016-01-26 14:07:23  \n",
       "2640             bt5 2016-01-26 14:10:24  \n",
       "2641             bt5 2016-01-26 14:11:56  \n",
       "2642             bt5 2016-01-26 14:28:30  \n",
       "2643             bt5 2016-01-26 14:33:01  \n",
       "2644             bt5 2016-01-26 14:33:31  \n",
       "2645             bt5 2016-01-26 14:34:01  \n",
       "2646             bt5 2016-01-26 14:36:02  \n",
       "2647             bt5 2016-01-26 15:14:39  \n",
       "2648             bt5 2016-01-26 15:17:11  \n",
       "2649             bt5 2016-01-26 15:18:11  \n",
       "2650             bt5 2016-01-26 15:20:12  \n",
       "2651             bt5 2016-01-26 15:22:14  \n",
       "2652             bt5 2016-01-26 15:22:44  \n",
       "2653             bt5 2016-01-26 15:54:50  "
      ]
     },
     "execution_count": 9,
     "metadata": {},
     "output_type": "execute_result"
    }
   ],
   "source": [
    "print(list(tracker_dfs.keys())[1])\n",
    "tracker_dfs[list(tracker_dfs.keys())[1]]"
   ]
  },
  {
   "cell_type": "code",
   "execution_count": 10,
   "metadata": {
    "collapsed": false
   },
   "outputs": [
    {
     "name": "stdout",
     "output_type": "stream",
     "text": [
      "F4:B8:5E:C4:63:25\n"
     ]
    },
    {
     "data": {
      "text/html": [
       "<div>\n",
       "<table border=\"1\" class=\"dataframe\">\n",
       "  <thead>\n",
       "    <tr style=\"text-align: right;\">\n",
       "      <th></th>\n",
       "      <th>tracker_id</th>\n",
       "      <th>dBm</th>\n",
       "      <th>year</th>\n",
       "      <th>month</th>\n",
       "      <th>day</th>\n",
       "      <th>hour</th>\n",
       "      <th>minute</th>\n",
       "      <th>second</th>\n",
       "      <th>base_station_id</th>\n",
       "      <th>date</th>\n",
       "    </tr>\n",
       "  </thead>\n",
       "  <tbody>\n",
       "  </tbody>\n",
       "</table>\n",
       "</div>"
      ],
      "text/plain": [
       "Empty DataFrame\n",
       "Columns: [tracker_id, dBm, year, month, day, hour, minute, second, base_station_id, date]\n",
       "Index: []"
      ]
     },
     "execution_count": 10,
     "metadata": {},
     "output_type": "execute_result"
    }
   ],
   "source": [
    "print(list(tracker_dfs.keys())[2])\n",
    "tracker_dfs[list(tracker_dfs.keys())[2]]"
   ]
  },
  {
   "cell_type": "code",
   "execution_count": 11,
   "metadata": {
    "collapsed": false
   },
   "outputs": [
    {
     "name": "stdout",
     "output_type": "stream",
     "text": [
      "F4:B8:5E:C4:54:BE\n"
     ]
    },
    {
     "data": {
      "text/html": [
       "<div>\n",
       "<table border=\"1\" class=\"dataframe\">\n",
       "  <thead>\n",
       "    <tr style=\"text-align: right;\">\n",
       "      <th></th>\n",
       "      <th>tracker_id</th>\n",
       "      <th>dBm</th>\n",
       "      <th>year</th>\n",
       "      <th>month</th>\n",
       "      <th>day</th>\n",
       "      <th>hour</th>\n",
       "      <th>minute</th>\n",
       "      <th>second</th>\n",
       "      <th>base_station_id</th>\n",
       "      <th>date</th>\n",
       "    </tr>\n",
       "  </thead>\n",
       "  <tbody>\n",
       "  </tbody>\n",
       "</table>\n",
       "</div>"
      ],
      "text/plain": [
       "Empty DataFrame\n",
       "Columns: [tracker_id, dBm, year, month, day, hour, minute, second, base_station_id, date]\n",
       "Index: []"
      ]
     },
     "execution_count": 11,
     "metadata": {},
     "output_type": "execute_result"
    }
   ],
   "source": [
    "print(list(tracker_dfs.keys())[3])\n",
    "tracker_dfs[list(tracker_dfs.keys())[3]]"
   ]
  },
  {
   "cell_type": "markdown",
   "metadata": {},
   "source": [
    "The above seal is the only one that stuck around, within some proximity, to a base station (BT5). From a technical standpoint, this is one example of a successful deployment of the tracker, in that we are able to detect a ping."
   ]
  },
  {
   "cell_type": "code",
   "execution_count": 12,
   "metadata": {
    "collapsed": false
   },
   "outputs": [
    {
     "name": "stdout",
     "output_type": "stream",
     "text": [
      "74:DA:EA:A8:9D:0F\n"
     ]
    },
    {
     "data": {
      "text/html": [
       "<div>\n",
       "<table border=\"1\" class=\"dataframe\">\n",
       "  <thead>\n",
       "    <tr style=\"text-align: right;\">\n",
       "      <th></th>\n",
       "      <th>tracker_id</th>\n",
       "      <th>dBm</th>\n",
       "      <th>year</th>\n",
       "      <th>month</th>\n",
       "      <th>day</th>\n",
       "      <th>hour</th>\n",
       "      <th>minute</th>\n",
       "      <th>second</th>\n",
       "      <th>base_station_id</th>\n",
       "      <th>date</th>\n",
       "    </tr>\n",
       "  </thead>\n",
       "  <tbody>\n",
       "    <tr>\n",
       "      <th>4854</th>\n",
       "      <td>74:DA:EA:A8:9D:0F</td>\n",
       "      <td>-99</td>\n",
       "      <td>2016</td>\n",
       "      <td>1</td>\n",
       "      <td>27</td>\n",
       "      <td>13</td>\n",
       "      <td>44</td>\n",
       "      <td>43</td>\n",
       "      <td>bt2</td>\n",
       "      <td>2016-01-27 13:44:43</td>\n",
       "    </tr>\n",
       "  </tbody>\n",
       "</table>\n",
       "</div>"
      ],
      "text/plain": [
       "             tracker_id  dBm  year  month  day  hour  minute  second  \\\n",
       "4854  74:DA:EA:A8:9D:0F  -99  2016      1   27    13      44      43   \n",
       "\n",
       "     base_station_id                date  \n",
       "4854             bt2 2016-01-27 13:44:43  "
      ]
     },
     "execution_count": 12,
     "metadata": {},
     "output_type": "execute_result"
    }
   ],
   "source": [
    "print(list(tracker_dfs.keys())[4])\n",
    "tracker_dfs[list(tracker_dfs.keys())[4]]"
   ]
  },
  {
   "cell_type": "code",
   "execution_count": 13,
   "metadata": {
    "collapsed": false
   },
   "outputs": [
    {
     "name": "stdout",
     "output_type": "stream",
     "text": [
      "F4:B8:5E:DC:49:F8\n"
     ]
    },
    {
     "data": {
      "text/html": [
       "<div>\n",
       "<table border=\"1\" class=\"dataframe\">\n",
       "  <thead>\n",
       "    <tr style=\"text-align: right;\">\n",
       "      <th></th>\n",
       "      <th>tracker_id</th>\n",
       "      <th>dBm</th>\n",
       "      <th>year</th>\n",
       "      <th>month</th>\n",
       "      <th>day</th>\n",
       "      <th>hour</th>\n",
       "      <th>minute</th>\n",
       "      <th>second</th>\n",
       "      <th>base_station_id</th>\n",
       "      <th>date</th>\n",
       "    </tr>\n",
       "  </thead>\n",
       "  <tbody>\n",
       "  </tbody>\n",
       "</table>\n",
       "</div>"
      ],
      "text/plain": [
       "Empty DataFrame\n",
       "Columns: [tracker_id, dBm, year, month, day, hour, minute, second, base_station_id, date]\n",
       "Index: []"
      ]
     },
     "execution_count": 13,
     "metadata": {},
     "output_type": "execute_result"
    }
   ],
   "source": [
    "print(list(tracker_dfs.keys())[5])\n",
    "tracker_dfs[list(tracker_dfs.keys())[5]]"
   ]
  },
  {
   "cell_type": "code",
   "execution_count": 14,
   "metadata": {
    "collapsed": false
   },
   "outputs": [
    {
     "name": "stdout",
     "output_type": "stream",
     "text": [
      "F4:B8:5E:DD:42:D2\n"
     ]
    },
    {
     "data": {
      "text/html": [
       "<div>\n",
       "<table border=\"1\" class=\"dataframe\">\n",
       "  <thead>\n",
       "    <tr style=\"text-align: right;\">\n",
       "      <th></th>\n",
       "      <th>tracker_id</th>\n",
       "      <th>dBm</th>\n",
       "      <th>year</th>\n",
       "      <th>month</th>\n",
       "      <th>day</th>\n",
       "      <th>hour</th>\n",
       "      <th>minute</th>\n",
       "      <th>second</th>\n",
       "      <th>base_station_id</th>\n",
       "      <th>date</th>\n",
       "    </tr>\n",
       "  </thead>\n",
       "  <tbody>\n",
       "    <tr>\n",
       "      <th>5959</th>\n",
       "      <td>F4:B8:5E:DD:42:D2</td>\n",
       "      <td>-101</td>\n",
       "      <td>2016</td>\n",
       "      <td>1</td>\n",
       "      <td>28</td>\n",
       "      <td>9</td>\n",
       "      <td>53</td>\n",
       "      <td>34</td>\n",
       "      <td>bt6</td>\n",
       "      <td>2016-01-28 09:53:34</td>\n",
       "    </tr>\n",
       "  </tbody>\n",
       "</table>\n",
       "</div>"
      ],
      "text/plain": [
       "             tracker_id  dBm  year  month  day  hour  minute  second  \\\n",
       "5959  F4:B8:5E:DD:42:D2 -101  2016      1   28     9      53      34   \n",
       "\n",
       "     base_station_id                date  \n",
       "5959             bt6 2016-01-28 09:53:34  "
      ]
     },
     "execution_count": 14,
     "metadata": {},
     "output_type": "execute_result"
    }
   ],
   "source": [
    "print(list(tracker_dfs.keys())[6])\n",
    "tracker_dfs[list(tracker_dfs.keys())[6]]"
   ]
  },
  {
   "cell_type": "code",
   "execution_count": 15,
   "metadata": {
    "collapsed": false
   },
   "outputs": [
    {
     "name": "stdout",
     "output_type": "stream",
     "text": [
      "F4:B8:5E:C4:5F:8C\n"
     ]
    },
    {
     "data": {
      "text/html": [
       "<div>\n",
       "<table border=\"1\" class=\"dataframe\">\n",
       "  <thead>\n",
       "    <tr style=\"text-align: right;\">\n",
       "      <th></th>\n",
       "      <th>tracker_id</th>\n",
       "      <th>dBm</th>\n",
       "      <th>year</th>\n",
       "      <th>month</th>\n",
       "      <th>day</th>\n",
       "      <th>hour</th>\n",
       "      <th>minute</th>\n",
       "      <th>second</th>\n",
       "      <th>base_station_id</th>\n",
       "      <th>date</th>\n",
       "    </tr>\n",
       "  </thead>\n",
       "  <tbody>\n",
       "    <tr>\n",
       "      <th>5981</th>\n",
       "      <td>F4:B8:5E:C4:5F:8C</td>\n",
       "      <td>-95</td>\n",
       "      <td>2016</td>\n",
       "      <td>1</td>\n",
       "      <td>28</td>\n",
       "      <td>10</td>\n",
       "      <td>45</td>\n",
       "      <td>19</td>\n",
       "      <td>bt6</td>\n",
       "      <td>2016-01-28 10:45:19</td>\n",
       "    </tr>\n",
       "  </tbody>\n",
       "</table>\n",
       "</div>"
      ],
      "text/plain": [
       "             tracker_id  dBm  year  month  day  hour  minute  second  \\\n",
       "5981  F4:B8:5E:C4:5F:8C  -95  2016      1   28    10      45      19   \n",
       "\n",
       "     base_station_id                date  \n",
       "5981             bt6 2016-01-28 10:45:19  "
      ]
     },
     "execution_count": 15,
     "metadata": {},
     "output_type": "execute_result"
    }
   ],
   "source": [
    "print(list(tracker_dfs.keys())[7])\n",
    "tracker_dfs[list(tracker_dfs.keys())[7]]"
   ]
  },
  {
   "cell_type": "markdown",
   "metadata": {
    "collapsed": true
   },
   "source": [
    "Just by simply eyeballing the data, this is what it looks like:\n",
    "\n",
    "1. With the exception of 1 seal that stuck around for 3 hours after being sampled, the other seals only registered a single ping, or were never re-discovered after placing the tracker on its head.\n",
    "1. This \"single ping\" - I'm not sure what explains it best:\n",
    "    1. Did the tracker get damaged soon after being placed on the seal's head? If so, could a better solution be engineered, say via 3D printing a case to make it easier to keep waterproofed and from being crushed?\n",
    "    1. Did the seal pups move into a different location soon after being sampled? If so, could densely deploying more Tiki trackers, over a larger area, help with coverage? We should raise money for this next year, say, via [Experiment][1].\n",
    "    \n",
    "[1]: https://experiment.com"
   ]
  },
  {
   "cell_type": "markdown",
   "metadata": {
    "collapsed": true
   },
   "source": [
    "# Conclusions\n",
    "\n",
    "1. Two of the most probable problems to solve:\n",
    "    1. Casing - by 3D printing (can prototype if we have a cheap 3D printer in the lab, and then mass-produce at the Broad or MIT Machine Shop, both of which have 3D printers)\n",
    "    1. Proximity - by deploying more trackers.\n",
    "\n",
    "Let's raise money on [Experiment](http://experiment.com)! This should help us cover the costs of making more tiki base stations, and deploying more Bluetooth tags."
   ]
  },
  {
   "cell_type": "code",
   "execution_count": null,
   "metadata": {
    "collapsed": true
   },
   "outputs": [],
   "source": []
  },
  {
   "cell_type": "code",
   "execution_count": null,
   "metadata": {
    "collapsed": true
   },
   "outputs": [],
   "source": []
  },
  {
   "cell_type": "code",
   "execution_count": null,
   "metadata": {
    "collapsed": true
   },
   "outputs": [],
   "source": []
  }
 ],
 "metadata": {
  "kernelspec": {
   "display_name": "Python 3",
   "language": "python",
   "name": "python3"
  },
  "language_info": {
   "codemirror_mode": {
    "name": "ipython",
    "version": 3
   },
   "file_extension": ".py",
   "mimetype": "text/x-python",
   "name": "python",
   "nbconvert_exporter": "python",
   "pygments_lexer": "ipython3",
   "version": "3.4.4"
  }
 },
 "nbformat": 4,
 "nbformat_minor": 0
}
